{
 "cells": [
  {
   "cell_type": "markdown",
   "id": "b0f5258b",
   "metadata": {},
   "source": [
    "# How to calculate the gravity constant g"
   ]
  },
  {
   "cell_type": "code",
   "execution_count": 3,
   "id": "5666491a",
   "metadata": {},
   "outputs": [],
   "source": [
    "import cv2\n",
    "\n",
    "from manual_frame_selection import ManualFrameSelection"
   ]
  },
  {
   "cell_type": "code",
   "execution_count": null,
   "id": "a7b0f089",
   "metadata": {},
   "outputs": [
    {
     "name": "stdout",
     "output_type": "stream",
     "text": [
      "Total frames: 327, FPS: 29.994985547777944\n",
      "End of video.\n"
     ]
    }
   ],
   "source": [
    "video = ManualFrameSelection(\"videos/ball drop.mp4\", True, 0.5)\n",
    "video.play()"
   ]
  },
  {
   "cell_type": "markdown",
   "id": "d316f689",
   "metadata": {},
   "source": [
    "Now with a recording"
   ]
  },
  {
   "cell_type": "code",
   "execution_count": null,
   "id": "ba1253de",
   "metadata": {},
   "outputs": [
    {
     "name": "stdout",
     "output_type": "stream",
     "text": [
      "Total frames: 327, FPS: 29.994985547777944\n"
     ]
    }
   ],
   "source": [
    "video = ManualFrameSelection(\"videos/ball drop.mp4\", True, 0.5, \"video and mask.mp4v\")\n",
    "video.play()"
   ]
  },
  {
   "cell_type": "markdown",
   "id": "590d7995",
   "metadata": {},
   "source": [
    "So our best starting frame is 118 and the best ending frame is 201"
   ]
  },
  {
   "cell_type": "code",
   "execution_count": 7,
   "id": "c1b0e3ea",
   "metadata": {},
   "outputs": [
    {
     "name": "stdout",
     "output_type": "stream",
     "text": [
      "Total frames: 327, FPS: 29.994985547777944\n",
      "[71, 71, 72, 73, 75, 78, 81, 83, 87, 92, 97, 104, 109, 115, 122, 129, 137, 145, 154, 165, 174, 185, 196, 207, 219, 232, 244, 257, 271, 285, 300, 315, 330, 346, 362, 379, 397, 414, 432, 451, 470, 489, 508, 528, 549, 570, 591, 613, 635, 658, 681, 704, 728, 752, 776, 801, 826, 852, 877, 903, 1591, 1623]\n",
      "[0.0, 0.008333333333333333, 0.016666666666666666, 0.025, 0.03333333333333333, 0.041666666666666664, 0.05, 0.058333333333333334, 0.06666666666666667, 0.075, 0.08333333333333333, 0.09166666666666666, 0.1, 0.10833333333333334, 0.11666666666666667, 0.125, 0.13333333333333333, 0.14166666666666666, 0.15, 0.15833333333333333, 0.16666666666666666, 0.175, 0.18333333333333332, 0.19166666666666668, 0.2, 0.20833333333333334, 0.21666666666666667, 0.225, 0.23333333333333334, 0.24166666666666667, 0.25, 0.25833333333333336, 0.26666666666666666, 0.275, 0.2833333333333333, 0.2916666666666667, 0.3, 0.30833333333333335, 0.31666666666666665, 0.325, 0.3333333333333333, 0.3416666666666667, 0.35, 0.35833333333333334, 0.36666666666666664, 0.375, 0.38333333333333336, 0.39166666666666666, 0.4, 0.4083333333333333, 0.4166666666666667, 0.425, 0.43333333333333335, 0.44166666666666665, 0.45, 0.4583333333333333, 0.4666666666666667, 0.475, 0.48333333333333334, 0.49166666666666664, 0.6833333333333333, 0.6916666666666667]\n"
     ]
    }
   ],
   "source": [
    "player = ManualFrameSelection(\"videos/ball drop.mp4\", True, 1)\n",
    "\n",
    "start_frame   = 118\n",
    "end_frame     = 201\n",
    "fps           = 120\n",
    "\n",
    "frame_idx     = 0\n",
    "relative_idx  = 0  # Used for timing\n",
    "\n",
    "positions_px  = []\n",
    "times         = []\n",
    "\n",
    "cap = player.open_file()\n",
    "player.output_video_information(cap)\n",
    "\n",
    "while cap.isOpened():\n",
    "    frame = player.get_frame(cap)\n",
    "    if frame is None:\n",
    "        break\n",
    "    \n",
    "    if frame_idx < start_frame:\n",
    "      frame_idx += 1\n",
    "      continue\n",
    "    if frame_idx > end_frame:\n",
    "      break\n",
    "\n",
    "    mask = player.create_red_mask(frame)\n",
    "    contours, _ = cv2.findContours(mask, cv2.RETR_EXTERNAL, cv2.CHAIN_APPROX_SIMPLE)\n",
    "\n",
    "    if contours:\n",
    "      largest = max(contours, key=cv2.contourArea)\n",
    "      if cv2.contourArea(largest) > 50:\n",
    "        M = cv2.moments(largest)\n",
    "        if M['m00'] != 0:\n",
    "            cy = int(M['m01'] / M['m00'])  # Vertical center\n",
    "            positions_px.append(cy)\n",
    "            times.append(relative_idx / fps)\n",
    "\n",
    "    frame_idx += 1\n",
    "    relative_idx += 1\n",
    "\n",
    "cap.release()\n",
    "\n",
    "print(positions_px)\n",
    "print(times)"
   ]
  }
 ],
 "metadata": {
  "kernelspec": {
   "display_name": "Python 3",
   "language": "python",
   "name": "python3"
  },
  "language_info": {
   "codemirror_mode": {
    "name": "ipython",
    "version": 3
   },
   "file_extension": ".py",
   "mimetype": "text/x-python",
   "name": "python",
   "nbconvert_exporter": "python",
   "pygments_lexer": "ipython3",
   "version": "3.11.3"
  }
 },
 "nbformat": 4,
 "nbformat_minor": 5
}
